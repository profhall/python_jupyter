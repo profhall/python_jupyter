{
 "cells": [
  {
   "cell_type": "markdown",
   "metadata": {},
   "source": [
    "# Welcome to Python Basics for New Coders\n",
    "This is an introduction to programming course for new coders. The content in this Jupyter Notebook will teach you the basic concepts of Computer Science, Programming/Coding using Python. If you complete this Notebook and it's exercises you will be ready to learn more advanced programming practices and solve new problems with Python\n",
    "\n",
    "## What Is Coding/Programming?\n",
    "\n",
    "## You're Already A Coder!\n",
    "\n",
    "## What Is Python?\n",
    "\n",
    "## Syntax\n",
    "\n",
    "## `Hello World`\n"
   ]
  },
  {
   "cell_type": "code",
   "execution_count": null,
   "metadata": {},
   "outputs": [],
   "source": [
    "print(\"This Line is a python statement that produces an output\")\n"
   ]
  },
  {
   "cell_type": "markdown",
   "source": [
    "[Next Lesson: The Basics](./TheBasics.ipynb)"
   ],
   "metadata": {
    "collapsed": false,
    "pycharm": {
     "name": "#%% md\n"
    }
   }
  }
 ],
 "metadata": {
  "kernelspec": {
   "display_name": "Python 3",
   "language": "python",
   "name": "python3"
  },
  "language_info": {
   "codemirror_mode": {
    "name": "ipython",
    "version": 3
   },
   "file_extension": ".py",
   "mimetype": "text/x-python",
   "name": "python",
   "nbconvert_exporter": "python",
   "pygments_lexer": "ipython3",
   "version": "3.7.6"
  },
  "pycharm": {
   "stem_cell": {
    "cell_type": "raw",
    "source": [],
    "metadata": {
     "collapsed": false
    }
   }
  }
 },
 "nbformat": 4,
 "nbformat_minor": 4
}